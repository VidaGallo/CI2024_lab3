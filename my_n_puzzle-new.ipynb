{
 "cells": [
  {
   "cell_type": "markdown",
   "id": "c5f8a565-9304-4854-aa75-554601cbe8a5",
   "metadata": {},
   "source": [
    "Collaboration and ideas: Gabriele Pirilli and some coding help from Chat GPT"
   ]
  },
  {
   "cell_type": "code",
   "execution_count": 1,
   "id": "cd647488-3f95-4f8a-b9f9-6e7e7e939514",
   "metadata": {},
   "outputs": [],
   "source": [
    "import heapq\n",
    "import numpy as np\n",
    "from collections import namedtuple\n",
    "from icecream import ic\n",
    "from tqdm import tqdm\n",
    "from random import choice\n",
    "import random"
   ]
  },
  {
   "cell_type": "markdown",
   "id": "ea287070-69dc-47c5-852b-6fabf8170dc8",
   "metadata": {},
   "source": [
    "***REMARK:*** For n >= 4 it becomes very slow. For n = 4 it converges after a lot of time and it is faster for some seads, but slower for others."
   ]
  },
  {
   "cell_type": "markdown",
   "id": "3fc90e66-1869-457e-8b6d-a873bc2ec8ea",
   "metadata": {},
   "source": [
    "## INITIALIZATIONS"
   ]
  },
  {
   "cell_type": "code",
   "execution_count": 2,
   "id": "c4c9fce8-503b-472d-8006-4164bbb0c37b",
   "metadata": {},
   "outputs": [],
   "source": [
    "PUZZLE_DIM = 4\n",
    "action = namedtuple('Action', ['pos1', 'pos2'])   #From position 1 to position 2             => Class-like structure"
   ]
  },
  {
   "cell_type": "markdown",
   "id": "6ae2c294-aca6-4d03-bc90-e589901fc657",
   "metadata": {},
   "source": [
    "Functions for the actions:"
   ]
  },
  {
   "cell_type": "code",
   "execution_count": 3,
   "id": "14829f33-1efc-42d2-b865-570f67343566",
   "metadata": {},
   "outputs": [],
   "source": [
    "def available_actions(state: tuple) -> list[action]:\n",
    "    x, y = [(i, row.index(0)) for i, row in enumerate(state) if 0 in row][0]\n",
    "    actions = []\n",
    "    if x > 0:  \n",
    "        actions.append(action((x, y), (x - 1, y)))\n",
    "    if x < PUZZLE_DIM - 1:  \n",
    "        actions.append(action((x, y), (x + 1, y)))\n",
    "    if y > 0:  \n",
    "        actions.append(action((x, y), (x, y - 1)))\n",
    "    if y < PUZZLE_DIM - 1:  \n",
    "        actions.append(action((x, y), (x, y + 1)))\n",
    "    return actions\n",
    "\n",
    "\n",
    "\n",
    "def do_action(state: tuple, act: action) -> tuple:\n",
    "    state_list = [list(row) for row in state]  \n",
    "    state_list[act.pos1[0]][act.pos1[1]], state_list[act.pos2[0]][act.pos2[1]] = \\\n",
    "        state_list[act.pos2[0]][act.pos2[1]], state_list[act.pos1[0]][act.pos1[1]]\n",
    "    return tuple(tuple(row) for row in state_list) "
   ]
  },
  {
   "cell_type": "markdown",
   "id": "0f1d57b7-ed23-4507-a670-36c44c9bdebc",
   "metadata": {},
   "source": [
    "Problem Initialization:"
   ]
  },
  {
   "cell_type": "code",
   "execution_count": 4,
   "id": "d71ea14a-5258-4fad-a664-31111311ba97",
   "metadata": {},
   "outputs": [
    {
     "name": "stderr",
     "output_type": "stream",
     "text": [
      "Randomizing: 100%|█████████████████████████████████████████████████████████| 100000/100000 [00:00<00:00, 321433.64it/s]\n"
     ]
    }
   ],
   "source": [
    "seed = 11\n",
    "np.random.seed(seed)  \n",
    "random.seed(seed) \n",
    "\n",
    "\n",
    "# The goal state is a tuple of tuples\n",
    "goal_state_array = np.array([i for i in range(1, PUZZLE_DIM**2)] + [0]).reshape((PUZZLE_DIM, PUZZLE_DIM))\n",
    "goal_state = tuple(tuple(row) for row in goal_state_array)    #Tuples will be faster later\n",
    "\n",
    "# Generate the initial state by randomizing the goal state\n",
    "RANDOMIZE_STEPS = 100_000\n",
    "initial_state = goal_state\n",
    "for _ in tqdm(range(RANDOMIZE_STEPS), desc='Randomizing'):\n",
    "    initial_state = do_action(initial_state, choice(available_actions(initial_state)))"
   ]
  },
  {
   "cell_type": "code",
   "execution_count": 5,
   "id": "53094e71-5ed1-4142-9057-50fc07e9f7ff",
   "metadata": {},
   "outputs": [
    {
     "name": "stdout",
     "output_type": "stream",
     "text": [
      "goal_state \n",
      " ((np.int64(1), np.int64(2), np.int64(3), np.int64(4)), (np.int64(5), np.int64(6), np.int64(7), np.int64(8)), (np.int64(9), np.int64(10), np.int64(11), np.int64(12)), (np.int64(13), np.int64(14), np.int64(15), np.int64(0)))\n",
      "initial_state \n",
      " ((np.int64(2), np.int64(9), np.int64(1), np.int64(5)), (np.int64(10), np.int64(13), np.int64(15), np.int64(11)), (np.int64(14), np.int64(6), np.int64(0), np.int64(12)), (np.int64(7), np.int64(8), np.int64(3), np.int64(4)))\n"
     ]
    }
   ],
   "source": [
    "print('goal_state \\n', goal_state)\n",
    "print('initial_state \\n',initial_state)"
   ]
  },
  {
   "cell_type": "markdown",
   "id": "ead9197f-2bcc-4d68-b5d6-751ea73f0b4d",
   "metadata": {},
   "source": [
    "## A* IMPLEMENTATION"
   ]
  },
  {
   "cell_type": "markdown",
   "id": "c78946fc-55b4-4d3b-87b5-6d2abf9284b0",
   "metadata": {},
   "source": [
    "***f = g + h*** <br>\n",
    "- g: cost of the path from the start to the current position\n",
    "- h: heuristic estimate of the cost to reach the final position => in this case, ***Manhattan distance***\n",
    "\n",
    "<br>\n",
    "Priority queue => The nodes are explored starting from those with the lowest cost to those with higher costs, 0 is the highest priority\n",
    "<br>\n",
    "\n",
    "***goal_test***  => Is the state the final one?"
   ]
  },
  {
   "cell_type": "code",
   "execution_count": 6,
   "id": "9ee856da-6959-4c2d-95b5-f68079600167",
   "metadata": {},
   "outputs": [],
   "source": [
    "def manhattan_dist(state: tuple, goal: tuple) -> int:\n",
    "    dist = 0\n",
    "    for num in range(1, PUZZLE_DIM**2):  # 0 is not considered\n",
    "        x1, y1 = [(i, row.index(num)) for i, row in enumerate(state) if num in row][0]\n",
    "        x2, y2 = [(i, row.index(num)) for i, row in enumerate(goal) if num in row][0]\n",
    "        dist += abs(x1 - x2) + abs(y1 - y2)\n",
    "    return dist\n",
    "\n",
    "def goal_test(current_state: tuple, goal_state: tuple) -> bool:\n",
    "    return current_state == goal_state"
   ]
  },
  {
   "cell_type": "markdown",
   "id": "b707c7fb-6500-4aa7-8382-1e7c3cdb4569",
   "metadata": {},
   "source": [
    "***stored_manhattan_dist*** contains already calculated manhattan distances to avoid recalculating them."
   ]
  },
  {
   "cell_type": "code",
   "execution_count": 7,
   "id": "8560b1c9-001b-468b-907e-d1d43f46993d",
   "metadata": {},
   "outputs": [],
   "source": [
    "manhattan_storing = {}  # Storing Manhattan distances\n",
    "\n",
    "def stored_manhattan_dist(state: np.ndarray, goal: np.ndarray) -> int:\n",
    "    state_str = str(state)\n",
    "\n",
    "    if state_str not in manhattan_storing:    # If not present, compute and store\n",
    "        manhattan_storing[state_str] = manhattan_dist(state, goal)\n",
    "\n",
    "    return manhattan_storing[state_str]"
   ]
  },
  {
   "cell_type": "code",
   "execution_count": 8,
   "id": "f89c9e1b-ed25-49cf-867a-3564da78760c",
   "metadata": {},
   "outputs": [],
   "source": [
    "def A_star(initial_state: tuple, goal_state: tuple):\n",
    "    Frontier_states = []  # Priority Queue\n",
    "    heapq.heappush(Frontier_states, (0, initial_state))\n",
    "\n",
    "    History = {str(initial_state): None}  # Dictionary for parent tracking\n",
    "    g_cost = {str(initial_state): 0}\n",
    "    Examined_states = set()\n",
    "\n",
    "    n_it_max = 10_000_000\n",
    "    n_it = 0\n",
    "    while Frontier_states and n_it < n_it_max:\n",
    "        n_it += 1\n",
    "        #if n_it % 10_000 == 0:\n",
    "            #print(f\"Iteration: {n_it}\")\n",
    "\n",
    "        _, current_state = heapq.heappop(Frontier_states)\n",
    "\n",
    "        if goal_test(current_state, goal_state):  # If goal state is reached\n",
    "            print(\"Goal reached!\")\n",
    "            print('Iterations:', n_it)\n",
    "\n",
    "            # Reconstruct the path from start to goal\n",
    "            path = []\n",
    "            state = current_state\n",
    "            while state is not None:\n",
    "                path.append(state)\n",
    "                state = History[str(state)]\n",
    "            path.reverse()\n",
    "            return path, n_it\n",
    "\n",
    "        Examined_states.add(str(current_state))\n",
    "\n",
    "        for act in available_actions(current_state):\n",
    "            neighbor = do_action(current_state, act)\n",
    "            if str(neighbor) in Examined_states:\n",
    "                continue\n",
    "\n",
    "            new_g_cost = g_cost[str(current_state)] + 1\n",
    "            if str(neighbor) not in g_cost or new_g_cost < g_cost[str(neighbor)]:\n",
    "                g_cost[str(neighbor)] = new_g_cost\n",
    "                h_cost = manhattan_dist(neighbor, goal_state)\n",
    "                f_cost = new_g_cost + h_cost\n",
    "                heapq.heappush(Frontier_states, (f_cost, neighbor))\n",
    "                History[str(neighbor)] = current_state\n",
    "\n",
    "    print(\"No solution found.\")\n",
    "    return None"
   ]
  },
  {
   "cell_type": "markdown",
   "id": "04a8d3ce-53cb-4505-ba07-79b9aa577a48",
   "metadata": {},
   "source": [
    "REMARK: <br>\n",
    "*_, current_state_tuple = heapq.heappop(Frontier_states)  <br>\n",
    "current_state = np.array(current_state_tuple)* <br>\n",
    "\n",
    "*heapq.heappush(Frontier_states, (f_cost, tuple(map(tuple, neighbor))))* <br>\n",
    "\n",
    " => ***tuples*** are needed to make the comparison between priorities of the frontier nodes (with numpy arrays it doesn't work)"
   ]
  },
  {
   "cell_type": "code",
   "execution_count": 9,
   "id": "c2bfc181-c9c0-4cb2-88a9-92789537a283",
   "metadata": {},
   "outputs": [
    {
     "name": "stdout",
     "output_type": "stream",
     "text": [
      "Goal reached!\n",
      "Iterations: 4326999\n"
     ]
    }
   ],
   "source": [
    "seed = 11\n",
    "np.random.seed(seed) \n",
    "random.seed(seed) \n",
    "\n",
    "path, n_it = A_star(initial_state, goal_state)"
   ]
  },
  {
   "cell_type": "code",
   "execution_count": 10,
   "id": "f2db44c4-faf8-41ce-b207-ee1ae6258d57",
   "metadata": {},
   "outputs": [
    {
     "name": "stdout",
     "output_type": "stream",
     "text": [
      "Quality:  53\n",
      "Cost 4326999\n"
     ]
    }
   ],
   "source": [
    "print('Quality: ', len(path))\n",
    "print('Cost', n_it)"
   ]
  },
  {
   "cell_type": "code",
   "execution_count": null,
   "id": "aeb2bb6b-ca9b-4bbb-8666-5756e44e7f3b",
   "metadata": {},
   "outputs": [],
   "source": []
  }
 ],
 "metadata": {
  "kernelspec": {
   "display_name": "Python 3 (ipykernel)",
   "language": "python",
   "name": "python3"
  },
  "language_info": {
   "codemirror_mode": {
    "name": "ipython",
    "version": 3
   },
   "file_extension": ".py",
   "mimetype": "text/x-python",
   "name": "python",
   "nbconvert_exporter": "python",
   "pygments_lexer": "ipython3",
   "version": "3.13.0"
  }
 },
 "nbformat": 4,
 "nbformat_minor": 5
}
